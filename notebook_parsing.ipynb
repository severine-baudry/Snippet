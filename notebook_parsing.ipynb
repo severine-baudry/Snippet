{
 "cells": [
  {
   "cell_type": "code",
   "execution_count": 1,
   "metadata": {},
   "outputs": [],
   "source": [
    "import json\n",
    "import os\n",
    "import sys"
   ]
  },
  {
   "cell_type": "code",
   "execution_count": 3,
   "metadata": {},
   "outputs": [],
   "source": [
    "def find_output_marking(notebook, output_mark):\n",
    "    for cell_idx,cell in enumerate(notebook[\"cells\"]):\n",
    "        if cell[\"cell_type\"] == \"code\":\n",
    "            for output in cell[\"outputs\"]:\n",
    "                if \"text\" in output :\n",
    "                    found = False\n",
    "                    for line in output[\"text\"]:\n",
    "                        if line.find(output_mark)!= -1:\n",
    "                            #print(\"MARK FOUND !\", cell_idx)\n",
    "                            found = True\n",
    "                    if found :\n",
    "                        return output[\"text\"]\n"
   ]
  },
  {
   "cell_type": "code",
   "execution_count": 5,
   "metadata": {},
   "outputs": [],
   "source": [
    "import re\n",
    "def tokenize_output(output_text):\n",
    "    '''\n",
    "    split notebook into tokens \n",
    "    separators : whitespace  ','  ':'\n",
    "    '''\n",
    "    res =[]\n",
    "    for line in output_text :\n",
    "    #    a = re.split(' |\\n|:', line)\n",
    "        #a = re.split('\\s|:|,', line)\n",
    "        # split outputs on whitespace, : and ,\n",
    "        split_line = re.split('[\\s|:|,]+', line)\n",
    "        # remove empty tokens\n",
    "        split_line = [ a for a in split_line if len(a)]\n",
    "        #print(split_line)\n",
    "        res.append(split_line)\n",
    "    return res"
   ]
  },
  {
   "cell_type": "code",
   "execution_count": 33,
   "metadata": {},
   "outputs": [],
   "source": [
    "import matplotlib.pyplot as plt\n",
    "def plot_performance(results, metric):\n",
    "    plt.figure()\n",
    "    plt.plot( list( res[\"TRAIN\"][metric].keys()), list(res[\"TRAIN\"][metric].values() ) , label =\"TRAIN\")\n",
    "    plt.plot( list( res[\"VALID\"][metric].keys()), list(res[\"VALID\"][metric].values() ) , label =\"VALID\")\n",
    "    plt.legend()\n",
    "    plt.title(metric)    "
   ]
  },
  {
   "cell_type": "code",
   "execution_count": 34,
   "metadata": {},
   "outputs": [],
   "source": [
    "def extract_notebook_train_valid(notebook_name, l_markers = [\"Begin Training\", \"TEST\" ] ):\n",
    "    with open(notebook_name) as f :\n",
    "        notebook = json.load(f)\n",
    "        res = OrderedDict()\n",
    "        for output_mark in  l_markers :\n",
    "            # find output cell beginning with output_mark\n",
    "            output_text = find_output_marking(notebook, output_mark)\n",
    "            if output_text :\n",
    "                # tokenize output cell\n",
    "                split_lines = tokenize_output(output_text)\n",
    "                # extract results from cell\n",
    "                dict_result = parse_nn_performances(split_lines)\n",
    "                res.update(dict_result)\n",
    "        return res"
   ]
  },
  {
   "cell_type": "code",
   "execution_count": 37,
   "metadata": {},
   "outputs": [],
   "source": [
    "def test_notebook_parsing():\n",
    "    results = extract_notebook_train_valid(\"/home/severine/MOOCS/UDACITY/DEEP_LEARNING/TP/P2_dog_classification/Transfer_Learning_Solution_copy.ipynb\")\n",
    "    plot_performance(results, \"loss\")                 \n",
    "    plot_performance(results, \"accuracy\")"
   ]
  }
 ],
 "metadata": {
  "kernelspec": {
   "display_name": "Python 3",
   "language": "python",
   "name": "python3"
  },
  "language_info": {
   "codemirror_mode": {
    "name": "ipython",
    "version": 3
   },
   "file_extension": ".py",
   "mimetype": "text/x-python",
   "name": "python",
   "nbconvert_exporter": "python",
   "pygments_lexer": "ipython3",
   "version": "3.7.4"
  },
  "toc": {
   "base_numbering": 1,
   "nav_menu": {},
   "number_sections": true,
   "sideBar": true,
   "skip_h1_title": false,
   "title_cell": "Table of Contents",
   "title_sidebar": "Contents",
   "toc_cell": false,
   "toc_position": {},
   "toc_section_display": true,
   "toc_window_display": false
  },
  "varInspector": {
   "cols": {
    "lenName": 16,
    "lenType": 16,
    "lenVar": 40
   },
   "kernels_config": {
    "python": {
     "delete_cmd_postfix": "",
     "delete_cmd_prefix": "del ",
     "library": "var_list.py",
     "varRefreshCmd": "print(var_dic_list())"
    },
    "r": {
     "delete_cmd_postfix": ") ",
     "delete_cmd_prefix": "rm(",
     "library": "var_list.r",
     "varRefreshCmd": "cat(var_dic_list()) "
    }
   },
   "types_to_exclude": [
    "module",
    "function",
    "builtin_function_or_method",
    "instance",
    "_Feature"
   ],
   "window_display": false
  }
 },
 "nbformat": 4,
 "nbformat_minor": 2
}
