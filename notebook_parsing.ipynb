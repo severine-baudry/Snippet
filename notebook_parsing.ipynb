{
 "cells": [
  {
   "cell_type": "code",
   "execution_count": 1,
   "metadata": {},
   "outputs": [],
   "source": [
    "import json\n",
    "import os\n",
    "import sys"
   ]
  },
  {
   "cell_type": "code",
   "execution_count": 2,
   "metadata": {},
   "outputs": [],
   "source": [
    "filename = \"/home/severine/MOOCS/UDACITY/DEEP_LEARNING/TP/P2_dog_classification/Transfer_Learning_Solution_copy.ipynb\"\n",
    "with open(filename) as f :\n",
    "    notebook = json.load(f)"
   ]
  },
  {
   "cell_type": "code",
   "execution_count": 3,
   "metadata": {},
   "outputs": [],
   "source": [
    "def find_output_marking(notebook, output_mark):\n",
    "    for cell_idx,cell in enumerate(notebook[\"cells\"]):\n",
    "        if cell[\"cell_type\"] == \"code\":\n",
    "            for output in cell[\"outputs\"]:\n",
    "                if \"text\" in output :\n",
    "                    found = False\n",
    "                    for line in output[\"text\"]:\n",
    "                        if line.find(output_mark)!= -1:\n",
    "                            #print(\"MARK FOUND !\", cell_idx)\n",
    "                            found = True\n",
    "                    if found :\n",
    "                        return output[\"text\"]\n"
   ]
  },
  {
   "cell_type": "code",
   "execution_count": 4,
   "metadata": {},
   "outputs": [],
   "source": [
    "output_mark = \"Begin Training\"\n",
    "output_text = find_output_marking(notebook, output_mark)"
   ]
  },
  {
   "cell_type": "code",
   "execution_count": 5,
   "metadata": {},
   "outputs": [],
   "source": [
    "import re\n",
    "def tokenize_output(output_text):\n",
    "    '''\n",
    "    split notebook into tokens \n",
    "    separators : whitespace  ','  ':'\n",
    "    '''\n",
    "    res =[]\n",
    "    for line in output_text :\n",
    "    #    a = re.split(' |\\n|:', line)\n",
    "        #a = re.split('\\s|:|,', line)\n",
    "        # split outputs on whitespace, : and ,\n",
    "        split_line = re.split('[\\s|:|,]+', line)\n",
    "        # remove empty tokens\n",
    "        split_line = [ a for a in split_line if len(a)]\n",
    "        #print(split_line)\n",
    "        res.append(split_line)\n",
    "    return res"
   ]
  },
  {
   "cell_type": "code",
   "execution_count": 6,
   "metadata": {},
   "outputs": [],
   "source": [
    "split_lines = tokenize_output(output_text)"
   ]
  },
  {
   "cell_type": "code",
   "execution_count": 15,
   "metadata": {},
   "outputs": [],
   "source": [
    "from collections import OrderedDict\n",
    "def parse_nn_performances(split_lines):\n",
    "    res = OrderedDict( )\n",
    "    for line in split_lines:\n",
    "        if 'VALID' in line :\n",
    "            res.setdefault('VALID', OrderedDict())\n",
    "            perf_type = 'VALID'\n",
    "        elif 'TEST' in line :\n",
    "            res.setdefault('TEST', OrderedDict())\n",
    "            perf_type = 'TEST'            \n",
    "        else :\n",
    "            perf_type = 'TRAIN'\n",
    "            res.setdefault('TRAIN', OrderedDict())\n",
    "        if not 'Epoch' in line :\n",
    "            print(\"not a result line\")\n",
    "            continue\n",
    "        d_index = {}\n",
    "        l_names = [ 'loss', 'accuracy', 'Epoch']\n",
    "        d_type = {'loss':float, 'accuracy':float, 'Epoch':int }\n",
    "        d_val = {}\n",
    "        for name in l_names :\n",
    "            d_index[name] = line.index(name)\n",
    "        if d_index['loss'] == -1 and d_index['accuracy'] == -1 :\n",
    "            print(\"error : not a performance line\", line)\n",
    "        else :\n",
    "            try :\n",
    "                for name, index in d_index.items():\n",
    "                    if index > -1 :\n",
    "                        d_val[name] = d_type[name](line[index+1])\n",
    "            except ValueError :\n",
    "                print(\"error conversion\", name, index, line)\n",
    "            else :\n",
    "                epoch = d_val[\"Epoch\"]\n",
    "                del(d_val['Epoch'])\n",
    "                for name, perf in d_val.items() :\n",
    "                    res[perf_type].setdefault(name, OrderedDict() )\n",
    "                    res[perf_type][name][ epoch] = perf\n",
    "\n",
    "    return res\n",
    "                      "
   ]
  },
  {
   "cell_type": "code",
   "execution_count": 8,
   "metadata": {},
   "outputs": [
    {
     "name": "stdout",
     "output_type": "stream",
     "text": [
      "not a result line\n"
     ]
    }
   ],
   "source": [
    "res = parse_nn_performances(split_lines)"
   ]
  },
  {
   "cell_type": "code",
   "execution_count": 9,
   "metadata": {},
   "outputs": [],
   "source": [
    "import matplotlib.pyplot as plt"
   ]
  },
  {
   "cell_type": "code",
   "execution_count": 10,
   "metadata": {},
   "outputs": [
    {
     "data": {
      "text/plain": [
       "Text(0.5, 1.0, 'loss')"
      ]
     },
     "execution_count": 10,
     "metadata": {},
     "output_type": "execute_result"
    },
    {
     "data": {
      "image/png": "[encoded data removed]",
      "text/plain": [
       "<Figure size 432x288 with 1 Axes>"
      ]
     },
     "metadata": {
      "needs_background": "light"
     },
     "output_type": "display_data"
    }
   ],
   "source": [
    "plt.plot()\n",
    "plt.plot( list( res[\"TRAIN\"][\"loss\"].keys()), list(res[\"TRAIN\"][\"loss\"].values() ) , label =\"TRAIN\")\n",
    "plt.plot( list( res[\"VALID\"][\"loss\"].keys()), list(res[\"VALID\"][\"loss\"].values() ) , label =\"VALID\")\n",
    "plt.legend()\n",
    "plt.title(\"loss\")"
   ]
  },
  {
   "cell_type": "code",
   "execution_count": 11,
   "metadata": {},
   "outputs": [
    {
     "data": {
      "text/plain": [
       "Text(0.5, 1.0, 'accuracy')"
      ]
     },
     "execution_count": 11,
     "metadata": {},
     "output_type": "execute_result"
    },
    {
     "data": {
      "image/png": "[encoded data removed]",
      "text/plain": [
       "<Figure size 432x288 with 1 Axes>"
      ]
     },
     "metadata": {
      "needs_background": "light"
     },
     "output_type": "display_data"
    }
   ],
   "source": [
    "plt.plot()\n",
    "plt.plot( list( res[\"TRAIN\"][\"accuracy\"].keys()), list(res[\"TRAIN\"][\"accuracy\"].values() ) , label =\"TRAIN\")\n",
    "plt.plot( list( res[\"VALID\"][\"accuracy\"].keys()), list(res[\"VALID\"][\"accuracy\"].values() ) , label =\"VALID\")\n",
    "plt.legend()\n",
    "plt.title(\"accuracy\")"
   ]
  },
  {
   "cell_type": "code",
   "execution_count": 13,
   "metadata": {},
   "outputs": [],
   "source": [
    "test_output = find_output_marking(notebook, \"TEST\")"
   ]
  },
  {
   "cell_type": "code",
   "execution_count": 14,
   "metadata": {},
   "outputs": [
    {
     "name": "stdout",
     "output_type": "stream",
     "text": [
      "[['TEST', 'Epoch', '30', 'loss', '0.8620', 'accuracy', '0.746']]\n"
     ]
    }
   ],
   "source": [
    "test_tokenized = tokenize_output(test_output)\n",
    "print(test_tokenized)"
   ]
  },
  {
   "cell_type": "code",
   "execution_count": 16,
   "metadata": {},
   "outputs": [
    {
     "data": {
      "text/plain": [
       "OrderedDict([('TEST',\n",
       "              OrderedDict([('loss', OrderedDict([(30, 0.862)])),\n",
       "                           ('accuracy', OrderedDict([(30, 0.746)]))]))])"
      ]
     },
     "execution_count": 16,
     "metadata": {},
     "output_type": "execute_result"
    }
   ],
   "source": [
    "parse_nn_performances(test_tokenized)"
   ]
  },
  {
   "cell_type": "code",
   "execution_count": 23,
   "metadata": {},
   "outputs": [],
   "source": [
    "def extract_notebook_train_valid(notebook_name, l_markers = [\"Begin Training\", \"TEST\" ] ):\n",
    "    with open(notebook_name) as f :\n",
    "        notebook = json.load(f)\n",
    "        res = OrderedDict()\n",
    "        for output_mark in  l_markers :\n",
    "            # find output cell beginning with output_mark\n",
    "            output_text = find_output_marking(notebook, output_mark)\n",
    "            if output_text :\n",
    "                # tokenize output cell\n",
    "                split_lines = tokenize_output(output_text)\n",
    "                # extract results from cell\n",
    "                dict_result = parse_nn_performances(split_lines)\n",
    "                res.update(dict_result)\n",
    "        return res"
   ]
  },
  {
   "cell_type": "code",
   "execution_count": 24,
   "metadata": {},
   "outputs": [
    {
     "name": "stdout",
     "output_type": "stream",
     "text": [
      "not a result line\n"
     ]
    }
   ],
   "source": [
    "res = extract_notebook_train_valid(filename)"
   ]
  },
  {
   "cell_type": "code",
   "execution_count": 26,
   "metadata": {},
   "outputs": [
    {
     "name": "stdout",
     "output_type": "stream",
     "text": [
      "TRAIN OrderedDict([('loss', OrderedDict([(1, 4.824), (2, 4.4352), (3, 3.6599), (4, 2.428), (5, 1.6286), (6, 1.2845), (7, 1.0942), (8, 1.0033), (9, 0.9533), (10, 0.8824), (11, 0.8656), (12, 0.8268), (13, 0.8029), (14, 0.7636), (15, 0.7684), (16, 0.7472), (17, 0.7393), (18, 0.7013), (19, 0.7174), (20, 0.6894), (21, 0.6824), (22, 0.6649), (23, 0.6858), (24, 0.6587), (25, 0.6572), (26, 0.6303), (27, 0.6582), (28, 0.6146), (29, 0.643), (30, 0.6309)])), ('accuracy', OrderedDict([(1, 0.022), (2, 0.286), (3, 0.418), (4, 0.576), (5, 0.666), (6, 0.707), (7, 0.732), (8, 0.738), (9, 0.749), (10, 0.764), (11, 0.764), (12, 0.772), (13, 0.772), (14, 0.782), (15, 0.783), (16, 0.783), (17, 0.793), (18, 0.796), (19, 0.792), (20, 0.799), (21, 0.805), (22, 0.801), (23, 0.808), (24, 0.805), (25, 0.807), (26, 0.822), (27, 0.81), (28, 0.817), (29, 0.815), (30, 0.816)]))])\n",
      "VALID OrderedDict([('loss', OrderedDict([(1, 4.6573), (2, 4.1937), (3, 3.0802), (4, 1.9298), (5, 1.4778), (6, 1.2921), (7, 1.1512), (8, 0.9992), (9, 1.0212), (10, 0.941), (11, 0.9393), (12, 0.932), (13, 0.9373), (14, 0.9442), (15, 0.9172), (16, 0.8735), (17, 0.875), (18, 0.896), (19, 0.9337), (20, 0.9069), (21, 0.8415), (22, 0.8441), (23, 0.85), (24, 0.9529), (25, 0.8866), (26, 0.8783), (27, 0.8102), (28, 0.8063), (29, 0.7727), (30, 0.749)])), ('accuracy', OrderedDict([(1, 0.166), (2, 0.354), (3, 0.498), (4, 0.625), (5, 0.677), (6, 0.675), (7, 0.699), (8, 0.729), (9, 0.709), (10, 0.745), (11, 0.732), (12, 0.716), (13, 0.74), (14, 0.732), (15, 0.744), (16, 0.741), (17, 0.743), (18, 0.746), (19, 0.716), (20, 0.743), (21, 0.76), (22, 0.754), (23, 0.758), (24, 0.722), (25, 0.753), (26, 0.758), (27, 0.771), (28, 0.757), (29, 0.759), (30, 0.766)]))])\n",
      "TEST OrderedDict([('loss', OrderedDict([(30, 0.862)])), ('accuracy', OrderedDict([(30, 0.746)]))])\n"
     ]
    }
   ],
   "source": [
    "for k, v in res.items() :\n",
    "    print (k, v)"
   ]
  },
  {
   "cell_type": "code",
   "execution_count": null,
   "metadata": {},
   "outputs": [],
   "source": []
  }
 ],
 "metadata": {
  "kernelspec": {
   "display_name": "Python 3",
   "language": "python",
   "name": "python3"
  },
  "language_info": {
   "codemirror_mode": {
    "name": "ipython",
    "version": 3
   },
   "file_extension": ".py",
   "mimetype": "text/x-python",
   "name": "python",
   "nbconvert_exporter": "python",
   "pygments_lexer": "ipython3",
   "version": "3.7.4"
  },
  "toc": {
   "base_numbering": 1,
   "nav_menu": {},
   "number_sections": true,
   "sideBar": true,
   "skip_h1_title": false,
   "title_cell": "Table of Contents",
   "title_sidebar": "Contents",
   "toc_cell": false,
   "toc_position": {},
   "toc_section_display": true,
   "toc_window_display": false
  },
  "varInspector": {
   "cols": {
    "lenName": 16,
    "lenType": 16,
    "lenVar": 40
   },
   "kernels_config": {
    "python": {
     "delete_cmd_postfix": "",
     "delete_cmd_prefix": "del ",
     "library": "var_list.py",
     "varRefreshCmd": "print(var_dic_list())"
    },
    "r": {
     "delete_cmd_postfix": ") ",
     "delete_cmd_prefix": "rm(",
     "library": "var_list.r",
     "varRefreshCmd": "cat(var_dic_list()) "
    }
   },
   "types_to_exclude": [
    "module",
    "function",
    "builtin_function_or_method",
    "instance",
    "_Feature"
   ],
   "window_display": false
  }
 },
 "nbformat": 4,
 "nbformat_minor": 2
}
