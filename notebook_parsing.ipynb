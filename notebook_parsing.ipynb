{
 "cells": [
  {
   "cell_type": "code",
   "execution_count": 2,
   "metadata": {},
   "outputs": [],
   "source": [
    "import json\n",
    "import os\n",
    "import sys"
   ]
  },
  {
   "cell_type": "code",
   "execution_count": 3,
   "metadata": {},
   "outputs": [],
   "source": [
    "filename = \"/home/severine/MOOCS/UDACITY/DEEP_LEARNING/TP/P2_dog_classification/Transfer_Learning_Solution_copy.ipynb\"\n",
    "with open(filename) as f :\n",
    "    notebook = json.load(f)"
   ]
  },
  {
   "cell_type": "code",
   "execution_count": 4,
   "metadata": {},
   "outputs": [
    {
     "data": {
      "text/plain": [
       "dict"
      ]
     },
     "execution_count": 4,
     "metadata": {},
     "output_type": "execute_result"
    }
   ],
   "source": [
    "type(notebook)"
   ]
  },
  {
   "cell_type": "code",
   "execution_count": 5,
   "metadata": {},
   "outputs": [
    {
     "data": {
      "text/plain": [
       "4"
      ]
     },
     "execution_count": 5,
     "metadata": {},
     "output_type": "execute_result"
    }
   ],
   "source": [
    "len(notebook)"
   ]
  },
  {
   "cell_type": "code",
   "execution_count": 6,
   "metadata": {},
   "outputs": [
    {
     "data": {
      "text/plain": [
       "dict_keys(['nbformat', 'nbformat_minor', 'metadata', 'cells'])"
      ]
     },
     "execution_count": 6,
     "metadata": {},
     "output_type": "execute_result"
    }
   ],
   "source": [
    "notebook.keys()"
   ]
  },
  {
   "cell_type": "code",
   "execution_count": 13,
   "metadata": {},
   "outputs": [
    {
     "data": {
      "text/plain": [
       "24"
      ]
     },
     "execution_count": 13,
     "metadata": {},
     "output_type": "execute_result"
    }
   ],
   "source": [
    "len(notebook[\"cells\"])"
   ]
  },
  {
   "cell_type": "code",
   "execution_count": 51,
   "metadata": {},
   "outputs": [
    {
     "name": "stdout",
     "output_type": "stream",
     "text": [
      "markdown\n",
      "markdown\n",
      "markdown\n",
      "code\n",
      "\tcell keys : dict_keys(['output_type', 'text', 'name'])\n",
      "\toutput type : stream\n",
      "\tname : stdout\n",
      "\t <class 'list'> 11 200\n",
      "markdown\n",
      "code\n",
      "code\n",
      "\tcell keys : dict_keys(['output_type', 'text', 'name'])\n",
      "\toutput type : stream\n",
      "\tname : stdout\n",
      "\t <class 'list'> 1 104\n",
      "code\n",
      "markdown\n",
      "code\n",
      "\tcell keys : dict_keys(['output_type', 'text', 'name'])\n",
      "\toutput type : stream\n",
      "\tname : stdout\n",
      "\t <class 'list'> 3 104\n",
      "markdown\n",
      "code\n",
      "code\n",
      "\tcell keys : dict_keys(['output_type', 'text', 'name'])\n",
      "\toutput type : stream\n",
      "\tname : stdout\n",
      "\t <class 'list'> 1 104\n",
      "code\n",
      "\tcell keys : dict_keys(['output_type', 'data', 'metadata'])\n",
      "\toutput type : display_data\n",
      "\t {'tags': []}\n",
      "markdown\n",
      "code\n",
      "\tcell keys : dict_keys(['output_type', 'text', 'name'])\n",
      "\toutput type : stream\n",
      "\tname : stdout\n",
      "\t <class 'list'> 45 440\n",
      "code\n",
      "code\n",
      "\tcell keys : dict_keys(['output_type', 'text', 'name'])\n",
      "\toutput type : stream\n",
      "\tname : stdout\n",
      "\t <class 'list'> 50 536\n",
      "code\n",
      "code\n",
      "\tcell keys : dict_keys(['output_type', 'text', 'name'])\n",
      "\toutput type : stream\n",
      "\tname : stdout\n",
      "\t <class 'list'> 61 648\n",
      "\t!!! OUTPUT !!!\n",
      "Begin Training\n",
      "\n",
      "Epoch 1, loss: 4.8683 accuracy 0.012\n",
      "\n",
      "VALID : Epoch 1,loss: 4.8018 accuracy 0.038\n",
      "\n",
      "Epoch 2, loss: 4.7287 accuracy 0.083\n",
      "\n",
      "VALID : Epoch 2,loss: 4.6464 accuracy 0.111\n",
      "\n",
      "Epoch 3, loss: 4.5159 accuracy 0.158\n",
      "\n",
      "VALID : Epoch 3,loss: 4.3848 accuracy 0.151\n",
      "\n",
      "Epoch 4, loss: 4.1325 accuracy 0.216\n",
      "\n",
      "VALID : Epoch 4,loss: 3.8747 accuracy 0.253\n",
      "\n",
      "Epoch 5, loss: 3.5694 accuracy 0.304\n",
      "\n",
      "VALID : Epoch 5,loss: 3.2822 accuracy 0.317\n",
      "\n",
      "Epoch 6, loss: 2.9671 accuracy 0.400\n",
      "\n",
      "VALID : Epoch 6,loss: 2.7941 accuracy 0.404\n",
      "\n",
      "Epoch 7, loss: 2.5281 accuracy 0.455\n",
      "\n",
      "VALID : Epoch 7,loss: 2.4316 accuracy 0.450\n",
      "\n",
      "Epoch 8, loss: 2.2273 accuracy 0.487\n",
      "\n",
      "VALID : Epoch 8,loss: 2.2039 accuracy 0.479\n",
      "\n",
      "Epoch 9, loss: 2.0182 accuracy 0.519\n",
      "\n",
      "VALID : Epoch 9,loss: 2.0821 accuracy 0.485\n",
      "\n",
      "Epoch 10, loss: 1.8709 accuracy 0.533\n",
      "\n",
      "VALID : Epoch 10,loss: 1.8964 accuracy 0.515\n",
      "\n",
      "Epoch 11, loss: 1.7727 accuracy 0.555\n",
      "\n",
      "VALID : Epoch 11,loss: 1.7965 accuracy 0.515\n",
      "\n",
      "Epoch 12, loss: 1.6755 accuracy 0.570\n",
      "\n",
      "VALID : Epoch 12,loss: 1.6916 accuracy 0.534\n",
      "\n",
      "Epoch 13, loss: 1.6237 accuracy 0.577\n",
      "\n",
      "VALID : Epoch 13,loss: 1.6333 accuracy 0.566\n",
      "\n",
      "Epoch 14, loss: 1.5318 accuracy 0.594\n",
      "\n",
      "VALID : Epoch 14,loss: 1.6910 accuracy 0.549\n",
      "\n",
      "Epoch 15, loss: 1.5068 accuracy 0.600\n",
      "\n",
      "VALID : Epoch 15,loss: 1.6980 accuracy 0.550\n",
      "\n",
      "Epoch 16, loss: 1.4610 accuracy 0.607\n",
      "\n",
      "VALID : Epoch 16,loss: 1.6038 accuracy 0.560\n",
      "\n",
      "Epoch 17, loss: 1.4548 accuracy 0.611\n",
      "\n",
      "VALID : Epoch 17,loss: 1.5921 accuracy 0.582\n",
      "\n",
      "Epoch 18, loss: 1.4022 accuracy 0.621\n",
      "\n",
      "VALID : Epoch 18,loss: 1.4961 accuracy 0.584\n",
      "\n",
      "Epoch 19, loss: 1.3768 accuracy 0.625\n",
      "\n",
      "VALID : Epoch 19,loss: 1.5879 accuracy 0.584\n",
      "\n",
      "Epoch 20, loss: 1.3490 accuracy 0.628\n",
      "\n",
      "VALID : Epoch 20,loss: 1.5258 accuracy 0.575\n",
      "\n",
      "Epoch 21, loss: 1.3412 accuracy 0.635\n",
      "\n",
      "VALID : Epoch 21,loss: 1.4994 accuracy 0.593\n",
      "\n",
      "Epoch 22, loss: 1.3050 accuracy 0.643\n",
      "\n",
      "VALID : Epoch 22,loss: 1.5268 accuracy 0.574\n",
      "\n",
      "Epoch 23, loss: 1.2804 accuracy 0.648\n",
      "\n",
      "VALID : Epoch 23,loss: 1.4312 accuracy 0.604\n",
      "\n",
      "Epoch 24, loss: 1.2491 accuracy 0.656\n",
      "\n",
      "VALID : Epoch 24,loss: 1.4876 accuracy 0.589\n",
      "\n",
      "Epoch 25, loss: 1.2471 accuracy 0.660\n",
      "\n",
      "VALID : Epoch 25,loss: 1.5153 accuracy 0.595\n",
      "\n",
      "Epoch 26, loss: 1.2282 accuracy 0.669\n",
      "\n",
      "VALID : Epoch 26,loss: 1.3291 accuracy 0.616\n",
      "\n",
      "Epoch 27, loss: 1.2159 accuracy 0.662\n",
      "\n",
      "VALID : Epoch 27,loss: 1.4871 accuracy 0.596\n",
      "\n",
      "Epoch 28, loss: 1.1772 accuracy 0.672\n",
      "\n",
      "VALID : Epoch 28,loss: 1.5592 accuracy 0.584\n",
      "\n",
      "Epoch 29, loss: 1.1576 accuracy 0.681\n",
      "\n",
      "VALID : Epoch 29,loss: 1.4151 accuracy 0.602\n",
      "\n",
      "Epoch 30, loss: 1.1757 accuracy 0.676\n",
      "\n",
      "VALID : Epoch 30,loss: 1.4550 accuracy 0.602\n",
      "\n",
      "code\n",
      "ERROR : output len > 1 2\n",
      "[\"plt.plot(l_train_loss, label = 'train')\\n\", \"plt.plot(l_valid_loss, label = 'valid')\\n\", 'plt.legend()']\n",
      "code\n",
      "ERROR : output len > 1 2\n",
      "[\"plt.plot(l_train_accuracy, label = 'train')\\n\", \"plt.plot(l_valid_accuracy, label = 'valid')\\n\", 'plt.legend()']\n",
      "code\n",
      "\tcell keys : dict_keys(['output_type', 'text', 'name'])\n",
      "\toutput type : stream\n",
      "\tname : stdout\n",
      "\t <class 'list'> 1 104\n",
      "code\n"
     ]
    }
   ],
   "source": [
    "codecell_idx = 0\n",
    "for cell in notebook[\"cells\"]:\n",
    "    print(cell[\"cell_type\"])\n",
    "    if cell[\"cell_type\"] == \"code\":\n",
    "        output = cell[\"outputs\"]\n",
    "        if len(output) > 1 :\n",
    "            print(\"ERROR : output len > 1\", len(output))\n",
    "            print(cell[\"source\"])\n",
    "        else :\n",
    "            if len(output) == 1 :\n",
    "                codecell_idx += 1\n",
    "                print( \"\\tcell keys :\", output[0].keys())\n",
    "                print(\"\\toutput type :\", output[0][\"output_type\"])\n",
    "                if \"name\" in output[0].keys():\n",
    "                    output_text = output[0][\"text\"]\n",
    "                    print( \"\\tname :\", output[0][\"name\"])\n",
    "                    print(\"\\t\", type(output_text), len(output_text), sys.getsizeof(output_text) )\n",
    "                    if codecell_idx == 8:\n",
    "                        print(\"\\t!!! OUTPUT !!!\")\n",
    "                        for line in output_text : \n",
    "                            print(line)\n",
    "                if \"metadata\" in output[0].keys():\n",
    "                    print( \"\\t\", output[0][\"metadata\"])\n"
   ]
  },
  {
   "cell_type": "code",
   "execution_count": 65,
   "metadata": {},
   "outputs": [],
   "source": [
    "def find_output_marking(notebook, output_mark):\n",
    "    for cell_idx,cell in enumerate(notebook[\"cells\"]):\n",
    "        if cell[\"cell_type\"] == \"code\":\n",
    "            for output in cell[\"outputs\"]:\n",
    "                if \"text\" in output :\n",
    "                    found = False\n",
    "                    for line in output[\"text\"]:\n",
    "                        if line.find(output_mark)!= -1:\n",
    "                            #print(\"MARK FOUND !\", cell_idx)\n",
    "                            found = True\n",
    "                    if found :\n",
    "                        return output[\"text\"]\n"
   ]
  },
  {
   "cell_type": "code",
   "execution_count": 66,
   "metadata": {},
   "outputs": [],
   "source": [
    "output_mark = \"Begin Training\"\n",
    "output_text = find_output_marking(notebook, output_mark)"
   ]
  },
  {
   "cell_type": "code",
   "execution_count": 67,
   "metadata": {},
   "outputs": [
    {
     "data": {
      "text/plain": [
       "['Begin Training\\n',\n",
       " 'Epoch 1, loss: 4.8683 accuracy 0.012\\n',\n",
       " 'VALID : Epoch 1,loss: 4.8018 accuracy 0.038\\n',\n",
       " 'Epoch 2, loss: 4.7287 accuracy 0.083\\n',\n",
       " 'VALID : Epoch 2,loss: 4.6464 accuracy 0.111\\n',\n",
       " 'Epoch 3, loss: 4.5159 accuracy 0.158\\n',\n",
       " 'VALID : Epoch 3,loss: 4.3848 accuracy 0.151\\n',\n",
       " 'Epoch 4, loss: 4.1325 accuracy 0.216\\n',\n",
       " 'VALID : Epoch 4,loss: 3.8747 accuracy 0.253\\n',\n",
       " 'Epoch 5, loss: 3.5694 accuracy 0.304\\n',\n",
       " 'VALID : Epoch 5,loss: 3.2822 accuracy 0.317\\n',\n",
       " 'Epoch 6, loss: 2.9671 accuracy 0.400\\n',\n",
       " 'VALID : Epoch 6,loss: 2.7941 accuracy 0.404\\n',\n",
       " 'Epoch 7, loss: 2.5281 accuracy 0.455\\n',\n",
       " 'VALID : Epoch 7,loss: 2.4316 accuracy 0.450\\n',\n",
       " 'Epoch 8, loss: 2.2273 accuracy 0.487\\n',\n",
       " 'VALID : Epoch 8,loss: 2.2039 accuracy 0.479\\n',\n",
       " 'Epoch 9, loss: 2.0182 accuracy 0.519\\n',\n",
       " 'VALID : Epoch 9,loss: 2.0821 accuracy 0.485\\n',\n",
       " 'Epoch 10, loss: 1.8709 accuracy 0.533\\n',\n",
       " 'VALID : Epoch 10,loss: 1.8964 accuracy 0.515\\n',\n",
       " 'Epoch 11, loss: 1.7727 accuracy 0.555\\n',\n",
       " 'VALID : Epoch 11,loss: 1.7965 accuracy 0.515\\n',\n",
       " 'Epoch 12, loss: 1.6755 accuracy 0.570\\n',\n",
       " 'VALID : Epoch 12,loss: 1.6916 accuracy 0.534\\n',\n",
       " 'Epoch 13, loss: 1.6237 accuracy 0.577\\n',\n",
       " 'VALID : Epoch 13,loss: 1.6333 accuracy 0.566\\n',\n",
       " 'Epoch 14, loss: 1.5318 accuracy 0.594\\n',\n",
       " 'VALID : Epoch 14,loss: 1.6910 accuracy 0.549\\n',\n",
       " 'Epoch 15, loss: 1.5068 accuracy 0.600\\n',\n",
       " 'VALID : Epoch 15,loss: 1.6980 accuracy 0.550\\n',\n",
       " 'Epoch 16, loss: 1.4610 accuracy 0.607\\n',\n",
       " 'VALID : Epoch 16,loss: 1.6038 accuracy 0.560\\n',\n",
       " 'Epoch 17, loss: 1.4548 accuracy 0.611\\n',\n",
       " 'VALID : Epoch 17,loss: 1.5921 accuracy 0.582\\n',\n",
       " 'Epoch 18, loss: 1.4022 accuracy 0.621\\n',\n",
       " 'VALID : Epoch 18,loss: 1.4961 accuracy 0.584\\n',\n",
       " 'Epoch 19, loss: 1.3768 accuracy 0.625\\n',\n",
       " 'VALID : Epoch 19,loss: 1.5879 accuracy 0.584\\n',\n",
       " 'Epoch 20, loss: 1.3490 accuracy 0.628\\n',\n",
       " 'VALID : Epoch 20,loss: 1.5258 accuracy 0.575\\n',\n",
       " 'Epoch 21, loss: 1.3412 accuracy 0.635\\n',\n",
       " 'VALID : Epoch 21,loss: 1.4994 accuracy 0.593\\n',\n",
       " 'Epoch 22, loss: 1.3050 accuracy 0.643\\n',\n",
       " 'VALID : Epoch 22,loss: 1.5268 accuracy 0.574\\n',\n",
       " 'Epoch 23, loss: 1.2804 accuracy 0.648\\n',\n",
       " 'VALID : Epoch 23,loss: 1.4312 accuracy 0.604\\n',\n",
       " 'Epoch 24, loss: 1.2491 accuracy 0.656\\n',\n",
       " 'VALID : Epoch 24,loss: 1.4876 accuracy 0.589\\n',\n",
       " 'Epoch 25, loss: 1.2471 accuracy 0.660\\n',\n",
       " 'VALID : Epoch 25,loss: 1.5153 accuracy 0.595\\n',\n",
       " 'Epoch 26, loss: 1.2282 accuracy 0.669\\n',\n",
       " 'VALID : Epoch 26,loss: 1.3291 accuracy 0.616\\n',\n",
       " 'Epoch 27, loss: 1.2159 accuracy 0.662\\n',\n",
       " 'VALID : Epoch 27,loss: 1.4871 accuracy 0.596\\n',\n",
       " 'Epoch 28, loss: 1.1772 accuracy 0.672\\n',\n",
       " 'VALID : Epoch 28,loss: 1.5592 accuracy 0.584\\n',\n",
       " 'Epoch 29, loss: 1.1576 accuracy 0.681\\n',\n",
       " 'VALID : Epoch 29,loss: 1.4151 accuracy 0.602\\n',\n",
       " 'Epoch 30, loss: 1.1757 accuracy 0.676\\n',\n",
       " 'VALID : Epoch 30,loss: 1.4550 accuracy 0.602\\n']"
      ]
     },
     "execution_count": 67,
     "metadata": {},
     "output_type": "execute_result"
    }
   ],
   "source": [
    "output_text"
   ]
  },
  {
   "cell_type": "code",
   "execution_count": 86,
   "metadata": {},
   "outputs": [],
   "source": [
    "import re\n",
    "def tokenize_output(output_text):\n",
    "    '''\n",
    "    split notebook into tokens \n",
    "    separators : whitespace  ','  ':'\n",
    "    '''\n",
    "    res =[]\n",
    "    for line in output_text :\n",
    "    #    a = re.split(' |\\n|:', line)\n",
    "        #a = re.split('\\s|:|,', line)\n",
    "        # split outputs on whitespace, : and ,\n",
    "        split_line = re.split('[\\s|:|,]+', line)\n",
    "        # remove empty tokens\n",
    "        split_line = [ a for a in split_line if len(a)]\n",
    "        #print(split_line)\n",
    "        res.append(split_line)\n",
    "    return res"
   ]
  },
  {
   "cell_type": "code",
   "execution_count": 87,
   "metadata": {},
   "outputs": [
    {
     "name": "stdout",
     "output_type": "stream",
     "text": [
      "[['Begin', 'Training'], ['Epoch', '1', 'loss', '4.8683', 'accuracy', '0.012'], ['VALID', 'Epoch', '1', 'loss', '4.8018', 'accuracy', '0.038'], ['Epoch', '2', 'loss', '4.7287', 'accuracy', '0.083'], ['VALID', 'Epoch', '2', 'loss', '4.6464', 'accuracy', '0.111'], ['Epoch', '3', 'loss', '4.5159', 'accuracy', '0.158'], ['VALID', 'Epoch', '3', 'loss', '4.3848', 'accuracy', '0.151'], ['Epoch', '4', 'loss', '4.1325', 'accuracy', '0.216'], ['VALID', 'Epoch', '4', 'loss', '3.8747', 'accuracy', '0.253'], ['Epoch', '5', 'loss', '3.5694', 'accuracy', '0.304'], ['VALID', 'Epoch', '5', 'loss', '3.2822', 'accuracy', '0.317'], ['Epoch', '6', 'loss', '2.9671', 'accuracy', '0.400'], ['VALID', 'Epoch', '6', 'loss', '2.7941', 'accuracy', '0.404'], ['Epoch', '7', 'loss', '2.5281', 'accuracy', '0.455'], ['VALID', 'Epoch', '7', 'loss', '2.4316', 'accuracy', '0.450'], ['Epoch', '8', 'loss', '2.2273', 'accuracy', '0.487'], ['VALID', 'Epoch', '8', 'loss', '2.2039', 'accuracy', '0.479'], ['Epoch', '9', 'loss', '2.0182', 'accuracy', '0.519'], ['VALID', 'Epoch', '9', 'loss', '2.0821', 'accuracy', '0.485'], ['Epoch', '10', 'loss', '1.8709', 'accuracy', '0.533'], ['VALID', 'Epoch', '10', 'loss', '1.8964', 'accuracy', '0.515'], ['Epoch', '11', 'loss', '1.7727', 'accuracy', '0.555'], ['VALID', 'Epoch', '11', 'loss', '1.7965', 'accuracy', '0.515'], ['Epoch', '12', 'loss', '1.6755', 'accuracy', '0.570'], ['VALID', 'Epoch', '12', 'loss', '1.6916', 'accuracy', '0.534'], ['Epoch', '13', 'loss', '1.6237', 'accuracy', '0.577'], ['VALID', 'Epoch', '13', 'loss', '1.6333', 'accuracy', '0.566'], ['Epoch', '14', 'loss', '1.5318', 'accuracy', '0.594'], ['VALID', 'Epoch', '14', 'loss', '1.6910', 'accuracy', '0.549'], ['Epoch', '15', 'loss', '1.5068', 'accuracy', '0.600'], ['VALID', 'Epoch', '15', 'loss', '1.6980', 'accuracy', '0.550'], ['Epoch', '16', 'loss', '1.4610', 'accuracy', '0.607'], ['VALID', 'Epoch', '16', 'loss', '1.6038', 'accuracy', '0.560'], ['Epoch', '17', 'loss', '1.4548', 'accuracy', '0.611'], ['VALID', 'Epoch', '17', 'loss', '1.5921', 'accuracy', '0.582'], ['Epoch', '18', 'loss', '1.4022', 'accuracy', '0.621'], ['VALID', 'Epoch', '18', 'loss', '1.4961', 'accuracy', '0.584'], ['Epoch', '19', 'loss', '1.3768', 'accuracy', '0.625'], ['VALID', 'Epoch', '19', 'loss', '1.5879', 'accuracy', '0.584'], ['Epoch', '20', 'loss', '1.3490', 'accuracy', '0.628'], ['VALID', 'Epoch', '20', 'loss', '1.5258', 'accuracy', '0.575'], ['Epoch', '21', 'loss', '1.3412', 'accuracy', '0.635'], ['VALID', 'Epoch', '21', 'loss', '1.4994', 'accuracy', '0.593'], ['Epoch', '22', 'loss', '1.3050', 'accuracy', '0.643'], ['VALID', 'Epoch', '22', 'loss', '1.5268', 'accuracy', '0.574'], ['Epoch', '23', 'loss', '1.2804', 'accuracy', '0.648'], ['VALID', 'Epoch', '23', 'loss', '1.4312', 'accuracy', '0.604'], ['Epoch', '24', 'loss', '1.2491', 'accuracy', '0.656'], ['VALID', 'Epoch', '24', 'loss', '1.4876', 'accuracy', '0.589'], ['Epoch', '25', 'loss', '1.2471', 'accuracy', '0.660'], ['VALID', 'Epoch', '25', 'loss', '1.5153', 'accuracy', '0.595'], ['Epoch', '26', 'loss', '1.2282', 'accuracy', '0.669'], ['VALID', 'Epoch', '26', 'loss', '1.3291', 'accuracy', '0.616'], ['Epoch', '27', 'loss', '1.2159', 'accuracy', '0.662'], ['VALID', 'Epoch', '27', 'loss', '1.4871', 'accuracy', '0.596'], ['Epoch', '28', 'loss', '1.1772', 'accuracy', '0.672'], ['VALID', 'Epoch', '28', 'loss', '1.5592', 'accuracy', '0.584'], ['Epoch', '29', 'loss', '1.1576', 'accuracy', '0.681'], ['VALID', 'Epoch', '29', 'loss', '1.4151', 'accuracy', '0.602'], ['Epoch', '30', 'loss', '1.1757', 'accuracy', '0.676'], ['VALID', 'Epoch', '30', 'loss', '1.4550', 'accuracy', '0.602']]\n"
     ]
    }
   ],
   "source": [
    "split_lines = tokenize_output(output_text)\n",
    "print(split_lines)"
   ]
  },
  {
   "cell_type": "code",
   "execution_count": 118,
   "metadata": {},
   "outputs": [],
   "source": [
    "from collections import OrderedDict\n",
    "def parse_nn_performances(split_lines):\n",
    "    res = OrderedDict( )\n",
    "    for line in split_lines:\n",
    "        if 'VALID' in line :\n",
    "            res.setdefault('VALID', OrderedDict())\n",
    "            perf_type = 'VALID'\n",
    "        else :\n",
    "            perf_type = 'TRAIN'\n",
    "            res.setdefault('TRAIN', OrderedDict())\n",
    "        if not 'Epoch' in line :\n",
    "            print(\"not a result line\")\n",
    "            continue\n",
    "        d_index = {}\n",
    "        l_names = [ 'loss', 'accuracy', 'Epoch']\n",
    "        d_type = {'loss':float, 'accuracy':float, 'Epoch':int }\n",
    "        d_val = {}\n",
    "        for name in l_names :\n",
    "            d_index[name] = line.index(name)\n",
    "        if d_index['loss'] == -1 and d_index['accuracy'] == -1 :\n",
    "            print(\"error : not a performance line\", line)\n",
    "        else :\n",
    "            try :\n",
    "                for name, index in d_index.items():\n",
    "                    if index > -1 :\n",
    "                        d_val[name] = d_type[name](line[index+1])\n",
    "            except ValueError :\n",
    "                print(\"error conversion\", name, index, line)\n",
    "            else :\n",
    "                epoch = d_val[\"Epoch\"]\n",
    "                del(d_val['Epoch'])\n",
    "                for name, perf in d_val.items() :\n",
    "                    res[perf_type].setdefault(name, OrderedDict() )\n",
    "                    res[perf_type][name][ epoch] = perf\n",
    "\n",
    "    return res\n",
    "                      "
   ]
  },
  {
   "cell_type": "code",
   "execution_count": 119,
   "metadata": {},
   "outputs": [
    {
     "name": "stdout",
     "output_type": "stream",
     "text": [
      "not a result line\n"
     ]
    }
   ],
   "source": [
    "res = parse_nn_performances(split_lines)"
   ]
  },
  {
   "cell_type": "code",
   "execution_count": 120,
   "metadata": {},
   "outputs": [],
   "source": [
    "import matplotlib.pyplot as plt"
   ]
  },
  {
   "cell_type": "code",
   "execution_count": 129,
   "metadata": {},
   "outputs": [
    {
     "data": {
      "text/plain": [
       "[1,\n",
       " 2,\n",
       " 3,\n",
       " 4,\n",
       " 5,\n",
       " 6,\n",
       " 7,\n",
       " 8,\n",
       " 9,\n",
       " 10,\n",
       " 11,\n",
       " 12,\n",
       " 13,\n",
       " 14,\n",
       " 15,\n",
       " 16,\n",
       " 17,\n",
       " 18,\n",
       " 19,\n",
       " 20,\n",
       " 21,\n",
       " 22,\n",
       " 23,\n",
       " 24,\n",
       " 25,\n",
       " 26,\n",
       " 27,\n",
       " 28,\n",
       " 29,\n",
       " 30]"
      ]
     },
     "execution_count": 129,
     "metadata": {},
     "output_type": "execute_result"
    }
   ],
   "source": [
    "list(res[\"TRAIN\"][\"loss\"].keys())"
   ]
  },
  {
   "cell_type": "code",
   "execution_count": 132,
   "metadata": {},
   "outputs": [
    {
     "data": {
      "text/plain": [
       "Text(0.5, 1.0, 'loss')"
      ]
     },
     "execution_count": 132,
     "metadata": {},
     "output_type": "execute_result"
    },
    {
     "data": {
      "image/png": "[encoded data removed]",
      "text/plain": [
       "<Figure size 432x288 with 1 Axes>"
      ]
     },
     "metadata": {
      "needs_background": "light"
     },
     "output_type": "display_data"
    }
   ],
   "source": [
    "plt.plot()\n",
    "plt.plot( list( res[\"TRAIN\"][\"loss\"].keys()), list(res[\"TRAIN\"][\"loss\"].values() ) , label =\"TRAIN\")\n",
    "plt.plot( list( res[\"VALID\"][\"loss\"].keys()), list(res[\"VALID\"][\"loss\"].values() ) , label =\"VALID\")\n",
    "plt.legend()\n",
    "plt.title(\"loss\")"
   ]
  },
  {
   "cell_type": "code",
   "execution_count": 134,
   "metadata": {},
   "outputs": [
    {
     "data": {
      "text/plain": [
       "Text(0.5, 1.0, 'accuracy')"
      ]
     },
     "execution_count": 134,
     "metadata": {},
     "output_type": "execute_result"
    },
    {
     "data": {
      "image/png": "[encoded data removed]",
      "text/plain": [
       "<Figure size 432x288 with 1 Axes>"
      ]
     },
     "metadata": {
      "needs_background": "light"
     },
     "output_type": "display_data"
    }
   ],
   "source": [
    "plt.plot()\n",
    "plt.plot( list( res[\"TRAIN\"][\"accuracy\"].keys()), list(res[\"TRAIN\"][\"accuracy\"].values() ) , label =\"TRAIN\")\n",
    "plt.plot( list( res[\"VALID\"][\"accuracy\"].keys()), list(res[\"VALID\"][\"accuracy\"].values() ) , label =\"VALID\")\n",
    "plt.legend()\n",
    "plt.title(\"accuracy\")"
   ]
  },
  {
   "cell_type": "code",
   "execution_count": null,
   "metadata": {},
   "outputs": [],
   "source": []
  }
 ],
 "metadata": {
  "kernelspec": {
   "display_name": "Python 3",
   "language": "python",
   "name": "python3"
  },
  "language_info": {
   "codemirror_mode": {
    "name": "ipython",
    "version": 3
   },
   "file_extension": ".py",
   "mimetype": "text/x-python",
   "name": "python",
   "nbconvert_exporter": "python",
   "pygments_lexer": "ipython3",
   "version": "3.7.4"
  },
  "toc": {
   "base_numbering": 1,
   "nav_menu": {},
   "number_sections": true,
   "sideBar": true,
   "skip_h1_title": false,
   "title_cell": "Table of Contents",
   "title_sidebar": "Contents",
   "toc_cell": false,
   "toc_position": {},
   "toc_section_display": true,
   "toc_window_display": false
  },
  "varInspector": {
   "cols": {
    "lenName": 16,
    "lenType": 16,
    "lenVar": 40
   },
   "kernels_config": {
    "python": {
     "delete_cmd_postfix": "",
     "delete_cmd_prefix": "del ",
     "library": "var_list.py",
     "varRefreshCmd": "print(var_dic_list())"
    },
    "r": {
     "delete_cmd_postfix": ") ",
     "delete_cmd_prefix": "rm(",
     "library": "var_list.r",
     "varRefreshCmd": "cat(var_dic_list()) "
    }
   },
   "types_to_exclude": [
    "module",
    "function",
    "builtin_function_or_method",
    "instance",
    "_Feature"
   ],
   "window_display": false
  }
 },
 "nbformat": 4,
 "nbformat_minor": 2
}
