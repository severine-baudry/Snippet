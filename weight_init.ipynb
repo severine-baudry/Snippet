{
 "cells": [
  {
   "cell_type": "code",
   "execution_count": 1,
   "metadata": {},
   "outputs": [],
   "source": [
    "import torch\n",
    "import torch.nn as nn\n",
    "import torch.functional as F"
   ]
  },
  {
   "cell_type": "code",
   "execution_count": 2,
   "metadata": {},
   "outputs": [],
   "source": [
    "import matplotlib.pyplot as plt\n",
    "import numpy as np"
   ]
  },
  {
   "cell_type": "markdown",
   "metadata": {},
   "source": [
    "# Normal weight initialization"
   ]
  },
  {
   "cell_type": "markdown",
   "metadata": {},
   "source": [
    "## Initialize a signel layer with normal weights"
   ]
  },
  {
   "cell_type": "code",
   "execution_count": 3,
   "metadata": {},
   "outputs": [],
   "source": [
    "def init_module_normal(module):\n",
    "    classname = module.__class__.__name__\n",
    "    # for every Linear layer in a model..\n",
    "    if classname.find('Linear') != -1:\n",
    "        # get the number of the inputs\n",
    "        print(\"init module with {} input features\".format(module.in_features))\n",
    "        n = module.in_features\n",
    "        std_weight = (1.0/np.sqrt(n))\n",
    "        module.weight.data.normal_(0, std_weight)\n",
    "        module.bias.data.fill_(0)"
   ]
  },
  {
   "cell_type": "code",
   "execution_count": 4,
   "metadata": {},
   "outputs": [],
   "source": [
    "def init_network_normal(neural_network):\n",
    "    print(\"init network with normal weights\")\n",
    "    neural_network.apply(init_module_normal)"
   ]
  },
  {
   "cell_type": "markdown",
   "metadata": {},
   "source": [
    "## initialize a whole network with normal weights"
   ]
  },
  {
   "cell_type": "code",
   "execution_count": 20,
   "metadata": {},
   "outputs": [],
   "source": [
    "class network(nn.Module):\n",
    "    def __init__(self, in_features = 900, nb_classes = 2):\n",
    "        super(network, self).__init__()\n",
    "        self.fc1 = nn.Linear(in_features=in_features, out_features = 100)\n",
    "        self.fc2 = nn.Linear(in_features=100, out_features = 20)\n",
    "        self.fc3 = nn.Linear(in_features=20, out_features=nb_classes)\n",
    "        # init linear layers with normal weights with std = 1/sqrt(nb_in)\n",
    "        init_network_normal(self)\n",
    "        \n",
    "    def forward(self, x):\n",
    "        x = self.fc1(x)\n",
    "        x = F.Relu(x)\n",
    "        x = self.fc2(x)\n",
    "        x = F.Relu(x)\n",
    "        x = self.fc3(x)\n",
    "        x = F.Relu(x)"
   ]
  },
  {
   "cell_type": "markdown",
   "metadata": {},
   "source": [
    "# TEST"
   ]
  },
  {
   "cell_type": "code",
   "execution_count": 21,
   "metadata": {},
   "outputs": [
    {
     "name": "stdout",
     "output_type": "stream",
     "text": [
      "init network with normal weights\n",
      "init module with 900 input features\n",
      "init module with 100 input features\n",
      "init module with 20 input features\n"
     ]
    }
   ],
   "source": [
    "ze_network = network()"
   ]
  },
  {
   "cell_type": "code",
   "execution_count": 22,
   "metadata": {},
   "outputs": [
    {
     "name": "stdout",
     "output_type": "stream",
     "text": [
      "<class 'torch.Tensor'>\n",
      "0.00013349112\n",
      "0.03326612\n"
     ]
    }
   ],
   "source": [
    "print(type(ze_network.fc1.weight.data))\n",
    "w = ze_network.fc1.weight.data.numpy()\n",
    "print(np.average(w))\n",
    "print(np.std(w))"
   ]
  },
  {
   "cell_type": "code",
   "execution_count": 23,
   "metadata": {},
   "outputs": [],
   "source": [
    "def check_normal(module):\n",
    "    class_name = module.__class__.__name__ \n",
    "    if class_name.find(\"Linear\") != -1:\n",
    "        n = module.in_features\n",
    "        st = 1./np.sqrt(n)\n",
    "        w = module.weight.data.numpy()\n",
    "        print(np.average(w), np.std(w), st)\n",
    "        \n",
    "    "
   ]
  },
  {
   "cell_type": "code",
   "execution_count": 24,
   "metadata": {},
   "outputs": [],
   "source": [
    "def check_normal_network(network):\n",
    "    for name, module in network.named_modules():\n",
    "        class_name = module.__class__.__name__ \n",
    "        if class_name.find(\"Linear\") != -1:\n",
    "            print(name)\n",
    "            check_normal(module)"
   ]
  },
  {
   "cell_type": "code",
   "execution_count": 25,
   "metadata": {},
   "outputs": [
    {
     "name": "stdout",
     "output_type": "stream",
     "text": [
      "fc1\n",
      "0.00013349112 0.03326612 0.03333333333333333\n",
      "fc2\n",
      "-0.0012800592 0.09846138 0.1\n",
      "fc3\n",
      "0.049253713 0.23843732 0.22360679774997896\n"
     ]
    }
   ],
   "source": [
    "check_normal_network(ze_network)"
   ]
  },
  {
   "cell_type": "code",
   "execution_count": 42,
   "metadata": {},
   "outputs": [
    {
     "data": {
      "image/png": "[encoded data removed]",
      "text/plain": [
       "<Figure size 432x288 with 1 Axes>"
      ]
     },
     "metadata": {
      "needs_background": "light"
     },
     "output_type": "display_data"
    }
   ],
   "source": [
    "h = plt.hist(ze_network.fc1.weight.data.reshape(-1), bins = 20)"
   ]
  },
  {
   "cell_type": "code",
   "execution_count": 43,
   "metadata": {},
   "outputs": [
    {
     "data": {
      "image/png": "[encoded data removed]",
      "text/plain": [
       "<Figure size 432x288 with 1 Axes>"
      ]
     },
     "metadata": {
      "needs_background": "light"
     },
     "output_type": "display_data"
    }
   ],
   "source": [
    "h = plt.hist(ze_network.fc2.weight.data.reshape(-1), bins = 20)"
   ]
  },
  {
   "cell_type": "code",
   "execution_count": 45,
   "metadata": {},
   "outputs": [
    {
     "data": {
      "image/png": "[encoded data removed]",
      "text/plain": [
       "<Figure size 432x288 with 1 Axes>"
      ]
     },
     "metadata": {
      "needs_background": "light"
     },
     "output_type": "display_data"
    }
   ],
   "source": [
    "h = plt.hist(ze_network.fc3.weight.data.reshape(-1))"
   ]
  },
  {
   "cell_type": "code",
   "execution_count": null,
   "metadata": {},
   "outputs": [],
   "source": []
  }
 ],
 "metadata": {
  "kernelspec": {
   "display_name": "Python 3",
   "language": "python",
   "name": "python3"
  },
  "language_info": {
   "codemirror_mode": {
    "name": "ipython",
    "version": 3
   },
   "file_extension": ".py",
   "mimetype": "text/x-python",
   "name": "python",
   "nbconvert_exporter": "python",
   "pygments_lexer": "ipython3",
   "version": "3.7.4"
  },
  "toc": {
   "base_numbering": 1,
   "nav_menu": {},
   "number_sections": true,
   "sideBar": true,
   "skip_h1_title": false,
   "title_cell": "Table of Contents",
   "title_sidebar": "Contents",
   "toc_cell": false,
   "toc_position": {},
   "toc_section_display": true,
   "toc_window_display": false
  },
  "varInspector": {
   "cols": {
    "lenName": 16,
    "lenType": 16,
    "lenVar": 40
   },
   "kernels_config": {
    "python": {
     "delete_cmd_postfix": "",
     "delete_cmd_prefix": "del ",
     "library": "var_list.py",
     "varRefreshCmd": "print(var_dic_list())"
    },
    "r": {
     "delete_cmd_postfix": ") ",
     "delete_cmd_prefix": "rm(",
     "library": "var_list.r",
     "varRefreshCmd": "cat(var_dic_list()) "
    }
   },
   "types_to_exclude": [
    "module",
    "function",
    "builtin_function_or_method",
    "instance",
    "_Feature"
   ],
   "window_display": false
  }
 },
 "nbformat": 4,
 "nbformat_minor": 2
}
